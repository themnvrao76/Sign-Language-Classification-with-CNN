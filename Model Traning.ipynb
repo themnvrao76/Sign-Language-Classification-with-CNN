{
 "cells": [
  {
   "cell_type": "code",
   "execution_count": 1,
   "metadata": {},
   "outputs": [],
   "source": [
    "import pickle\n",
    "\n",
    "with open(\"x.pickle\",\"rb\") as f:\n",
    "    x=pickle.load(f)\n",
    "with open(\"y.pickle\",\"rb\") as f:\n",
    "    y=pickle.load(f)"
   ]
  },
  {
   "cell_type": "code",
   "execution_count": 2,
   "metadata": {},
   "outputs": [],
   "source": [
    "import cv2\n",
    "import os\n",
    "import numpy as np\n",
    "from matplotlib import pyplot as plt\n",
    "from tensorflow import keras"
   ]
  },
  {
   "cell_type": "code",
   "execution_count": 3,
   "metadata": {},
   "outputs": [],
   "source": [
    "#train_dir='/content/asl_alphabet_train'\n",
    "train_dir = r\"G:\\cnn project\\asl_alphabet_train\\asl_alphabet_train\"\n",
    "\n",
    "uniq_labels = sorted(os.listdir(train_dir))"
   ]
  },
  {
   "cell_type": "code",
   "execution_count": 4,
   "metadata": {},
   "outputs": [
    {
     "name": "stdout",
     "output_type": "stream",
     "text": [
      "Total number of symbols:  28\n",
      "Number of training images:  65480\n",
      "Number of testing images:  16370\n"
     ]
    }
   ],
   "source": [
    "from sklearn.model_selection import train_test_split\n",
    "\n",
    "X_train, X_test, y_train, y_test = train_test_split(x, y, test_size = 0.2, stratify = y)\n",
    "\n",
    "n = len(uniq_labels)\n",
    "train_n = len(X_train)\n",
    "test_n = len(X_test)\n",
    "\n",
    "print(\"Total number of symbols: \", n)\n",
    "print(\"Number of training images: \" , train_n)\n",
    "print(\"Number of testing images: \", test_n)"
   ]
  },
  {
   "cell_type": "code",
   "execution_count": 5,
   "metadata": {},
   "outputs": [],
   "source": [
    "y_train=keras.utils.to_categorical(y_train)\n",
    "y_test=keras.utils.to_categorical(y_test)"
   ]
  },
  {
   "cell_type": "code",
   "execution_count": 7,
   "metadata": {},
   "outputs": [],
   "source": [
    "X_train=X_train/255\n",
    "X_test=X_test/255"
   ]
  },
  {
   "cell_type": "code",
   "execution_count": 24,
   "metadata": {},
   "outputs": [],
   "source": [
    "X_train=np.expand_dims(X_train,axis=-1)"
   ]
  },
  {
   "cell_type": "code",
   "execution_count": 26,
   "metadata": {},
   "outputs": [],
   "source": [
    "X_test=np.expand_dims(X_test,axis=-1)"
   ]
  },
  {
   "cell_type": "code",
   "execution_count": 25,
   "metadata": {},
   "outputs": [
    {
     "data": {
      "text/plain": [
       "(65480, 64, 64, 1)"
      ]
     },
     "execution_count": 25,
     "metadata": {},
     "output_type": "execute_result"
    }
   ],
   "source": []
  },
  {
   "cell_type": "code",
   "execution_count": 19,
   "metadata": {},
   "outputs": [],
   "source": [
    "model=keras.Sequential([\n",
    "    keras.layers.Conv2D(filters=32,kernel_size=3,activation=\"relu\",input_shape=(64,64,1)),\n",
    "    keras.layers.Conv2D(filters=64,kernel_size=3,activation=\"relu\"),\n",
    "    \n",
    "    keras.layers.MaxPooling2D((4,4),padding='same'),\n",
    "    keras.layers.Dropout(0.2),\n",
    "    \n",
    "    keras.layers.Conv2D(filters=128,kernel_size=3,activation=\"relu\"),\n",
    "    keras.layers.Conv2D(filters=128,kernel_size=3,activation=\"relu\"),\n",
    "    keras.layers.MaxPooling2D((4,4),padding='same'),\n",
    "    keras.layers.Dropout(0.2),\n",
    "    \n",
    "    keras.layers.Conv2D(filters=256,kernel_size=3,activation=\"relu\"),\n",
    "    keras.layers.MaxPooling2D((4,4),padding='same'),\n",
    "    keras.layers.Dropout(0.2),\n",
    "    \n",
    "    keras.layers.Flatten(),\n",
    "    keras.layers.Dense(128,activation=\"relu\"),\n",
    "    keras.layers.Dense(64,activation=\"relu\"),\n",
    "    keras.layers.Dense(28,activation=\"softmax\")\n",
    "])\n"
   ]
  },
  {
   "cell_type": "code",
   "execution_count": 28,
   "metadata": {},
   "outputs": [],
   "source": [
    "model.compile(optimizer=\"adam\",loss=\"categorical_crossentropy\",metrics=[\"accuracy\"])"
   ]
  },
  {
   "cell_type": "code",
   "execution_count": 22,
   "metadata": {},
   "outputs": [],
   "source": [
    "callback=keras.callbacks.EarlyStopping(monitor=\"loss\")"
   ]
  },
  {
   "cell_type": "code",
   "execution_count": 33,
   "metadata": {},
   "outputs": [
    {
     "name": "stdout",
     "output_type": "stream",
     "text": [
      "Epoch 1/10\n",
      "512/512 [==============================] - 117s 222ms/step - loss: 0.1139 - accuracy: 0.9620\n",
      "Epoch 2/10\n",
      "512/512 [==============================] - 113s 222ms/step - loss: 0.1003 - accuracy: 0.9674\n",
      "Epoch 3/10\n",
      "512/512 [==============================] - 119s 232ms/step - loss: 0.0822 - accuracy: 0.9723\n",
      "Epoch 4/10\n",
      "512/512 [==============================] - 135s 264ms/step - loss: 0.0726 - accuracy: 0.9758\n",
      "Epoch 5/10\n",
      "512/512 [==============================] - 142s 277ms/step - loss: 0.0635 - accuracy: 0.9786\n",
      "Epoch 6/10\n",
      "512/512 [==============================] - 146s 285ms/step - loss: 0.0605 - accuracy: 0.9805\n",
      "Epoch 7/10\n",
      "512/512 [==============================] - 148s 289ms/step - loss: 0.0529 - accuracy: 0.9823\n",
      "Epoch 8/10\n",
      "512/512 [==============================] - 150s 293ms/step - loss: 0.0471 - accuracy: 0.9849\n",
      "Epoch 9/10\n",
      "512/512 [==============================] - 149s 291ms/step - loss: 0.0444 - accuracy: 0.9854\n",
      "Epoch 10/10\n",
      "512/512 [==============================] - 154s 300ms/step - loss: 0.0380 - accuracy: 0.9880\n"
     ]
    },
    {
     "data": {
      "text/plain": [
       "<tensorflow.python.keras.callbacks.History at 0x1a3e0915e48>"
      ]
     },
     "execution_count": 33,
     "metadata": {},
     "output_type": "execute_result"
    }
   ],
   "source": [
    "model.fit(X_train,y_train,batch_size=128,epochs=10,callbacks=[callback])"
   ]
  },
  {
   "cell_type": "code",
   "execution_count": 34,
   "metadata": {},
   "outputs": [
    {
     "name": "stdout",
     "output_type": "stream",
     "text": [
      "512/512 [==============================] - 12s 21ms/step - loss: 0.0013 - accuracy: 0.9999\n"
     ]
    },
    {
     "data": {
      "text/plain": [
       "[0.0013440435286611319, 0.9998778104782104]"
      ]
     },
     "execution_count": 34,
     "metadata": {},
     "output_type": "execute_result"
    }
   ],
   "source": [
    "model.evaluate(X_test,y_test)"
   ]
  },
  {
   "cell_type": "code",
   "execution_count": 35,
   "metadata": {},
   "outputs": [],
   "source": [
    "model.save(\"version6.h5\")"
   ]
  },
  {
   "cell_type": "code",
   "execution_count": null,
   "metadata": {},
   "outputs": [],
   "source": []
  }
 ],
 "metadata": {
  "kernelspec": {
   "display_name": "Python 3",
   "language": "python",
   "name": "python3"
  },
  "language_info": {
   "codemirror_mode": {
    "name": "ipython",
    "version": 3
   },
   "file_extension": ".py",
   "mimetype": "text/x-python",
   "name": "python",
   "nbconvert_exporter": "python",
   "pygments_lexer": "ipython3",
   "version": "3.7.8"
  }
 },
 "nbformat": 4,
 "nbformat_minor": 4
}
